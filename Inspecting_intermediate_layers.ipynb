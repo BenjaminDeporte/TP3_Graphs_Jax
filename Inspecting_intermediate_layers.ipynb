{
  "cells": [
    {
      "cell_type": "code",
      "execution_count": 1,
      "metadata": {
        "executionInfo": {
          "elapsed": 3803,
          "status": "ok",
          "timestamp": 1649183426110,
          "user": {
            "displayName": "Daniele Calandriello",
            "userId": "03741700212412416743"
          },
          "user_tz": -120
        },
        "id": "I4g9r1qczK-1"
      },
      "outputs": [],
      "source": [
        "import functools\n",
        "import matplotlib.pyplot as plt\n",
        "import jax\n",
        "import jax.numpy as jnp\n",
        "import jax.tree_util as tree\n",
        "import jraph\n",
        "import flax\n",
        "import haiku as hk\n",
        "import optax\n",
        "import pickle\n",
        "import numpy as onp\n",
        "import networkx as nx\n",
        "from typing import Any, Callable, Dict, List, Optional, Tuple"
      ]
    },
    {
      "cell_type": "code",
      "execution_count": 2,
      "metadata": {
        "executionInfo": {
          "elapsed": 57,
          "status": "ok",
          "timestamp": 1649183426266,
          "user": {
            "displayName": "Daniele Calandriello",
            "userId": "03741700212412416743"
          },
          "user_tz": -120
        },
        "id": "0NY2gHMozj70"
      },
      "outputs": [],
      "source": [
        "class MLP(hk.Module):\n",
        "  def __init__(self, features: jnp.ndarray):\n",
        "    super().__init__()\n",
        "    self.features = features\n",
        "\n",
        "  def __call__(self, x: jnp.ndarray) -> jnp.ndarray:\n",
        "    layers = []\n",
        "    for feat in self.features[:-1]:\n",
        "      layers.append(hk.Linear(feat))\n",
        "      layers.append(jax.nn.relu)\n",
        "    layers.append(hk.Linear(self.features[-1]))\n",
        "\n",
        "    mlp = hk.Sequential(layers)\n",
        "    return mlp(x)\n",
        "\n",
        "def train(net, data):\n",
        "  params = net.init(jax.random.PRNGKey(42), data)\n",
        "  # many more params update\n",
        "  return params"
      ]
    },
    {
      "cell_type": "code",
      "execution_count": 3,
      "metadata": {
        "executionInfo": {
          "elapsed": 54,
          "status": "ok",
          "timestamp": 1649183426430,
          "user": {
            "displayName": "Daniele Calandriello",
            "userId": "03741700212412416743"
          },
          "user_tz": -120
        },
        "id": "BnieMyzE0HrY"
      },
      "outputs": [],
      "source": [
        "logging_flag = False\n",
        "logging_list = []\n",
        "\n",
        "class HackyLogging(hk.Module):\n",
        "  def __init__(self, features: jnp.ndarray):\n",
        "    super().__init__()\n",
        "    self.features = features\n",
        "\n",
        "  def __call__(self, x: jnp.ndarray) -> jnp.ndarray:\n",
        "    hidden_layer = MLP(self.features)(x)\n",
        "    if logging_flag:\n",
        "      logging_list.append(hidden_layer)\n",
        "    return MLP(self.features)(hidden_layer)"
      ]
    },
    {
      "cell_type": "code",
      "execution_count": null,
      "metadata": {
        "id": "xbN9Lt620wnc"
      },
      "outputs": [],
      "source": [
        "net = hk.without_apply_rng(hk.transform(lambda x: HackyLogging([10,4,3])(x)))\n",
        "logging_flag = False\n",
        "params = train(net, onp.random.rand(100,3))\n",
        "print(f'with logging disabled nothing gets logged: {logging_list}')\n",
        "logging_flag = True\n",
        "out = net.apply(params, onp.random.rand(1,3))\n",
        "out = net.apply(params, onp.random.rand(1,3))\n",
        "print(f'with logging enabled we log (but do not jit): {logging_list}')\n",
        "# to clear the list we must use .clear(), simply assigning logging_list = []\n",
        "# would overwrite the captured variable\n",
        "logging_list.clear()\n",
        "print(f'now we have an empty list: {logging_list}')\n",
        "out = net.apply(params, onp.random.rand(1,3))\n",
        "print(f'and we can fill it again: {logging_list}')"
      ]
    },
    {
      "cell_type": "code",
      "execution_count": null,
      "metadata": {
        "id": "qvgmzCN-6-RH"
      },
      "outputs": [],
      "source": [
        "# a less hackish way to achieve this is through the multi_transform function\n",
        "# for more details see https://dm-haiku.readthedocs.io/en/latest/api.html#haiku.multi_transform\n",
        "def whitebox_mlp(layers):\n",
        "  def _whitebox_mlp():\n",
        "    mlp1 = MLP(layers)\n",
        "    mlp2 = MLP(layers)\n",
        "  \n",
        "    def full_mlp(x):\n",
        "      hidden = mlp1(x)\n",
        "      return mlp2(hidden)\n",
        "    \n",
        "    def middle_mlp(x):\n",
        "      return mlp1(x)\n",
        "  \n",
        "    def init(x):\n",
        "      return full_mlp(x)\n",
        "    \n",
        "    return init, (full_mlp, middle_mlp)\n",
        "  return _whitebox_mlp\n",
        "\n",
        "# multi_transform does not support without_apply_rng\n",
        "whitebox_net = hk.multi_transform(whitebox_mlp([10,4,3]))\n",
        "params = whitebox_net.init(jax.random.PRNGKey(42), onp.random.rand(100,3))\n",
        "full_mlp_apply, middle_mlp_apply = whitebox_net.apply\n",
        "example_in = onp.random.rand(100,3)\n",
        "# since we could not use without_apply_rng, we must explicitely pass\n",
        "# an extra None argument to indicate we do not use rng\n",
        "hidden = middle_mlp_apply(params, None, example_in)\n",
        "out = full_mlp_apply(params, None, example_in)\n",
        "\n",
        "# note that train should be modified to take as input not the whitebox_net\n",
        "# function, but directly the full_mlp_apply and params"
      ]
    }
  ],
  "metadata": {
    "colab": {
      "collapsed_sections": [],
      "last_runtime": {
        "build_target": "//learning/deepmind/dm_python:dm_notebook3",
        "kind": "private"
      },
      "name": "Inspecting intermediate layers",
      "provenance": []
    },
    "kernelspec": {
      "display_name": "graphs",
      "language": "python",
      "name": "python3"
    },
    "language_info": {
      "codemirror_mode": {
        "name": "ipython",
        "version": 3
      },
      "file_extension": ".py",
      "mimetype": "text/x-python",
      "name": "python",
      "nbconvert_exporter": "python",
      "pygments_lexer": "ipython3",
      "version": "3.13.1"
    }
  },
  "nbformat": 4,
  "nbformat_minor": 0
}
